{
 "cells": [
  {
   "cell_type": "markdown",
   "metadata": {},
   "source": [
    "# Linear Regression\n",
    "\n",
    "In this notebook, we'll discover how to find a line of best fit for our dataset.  Here's a sample dataset for us to work with."
   ]
  },
  {
   "cell_type": "code",
   "execution_count": 2,
   "metadata": {
    "collapsed": false
   },
   "outputs": [
    {
     "data": {
      "image/png": "[encoded data removed]",
      "text/plain": [
       "<matplotlib.figure.Figure at 0x25bb21bee10>"
      ]
     },
     "metadata": {},
     "output_type": "display_data"
    }
   ],
   "source": [
    "import numpy as np\n",
    "import matplotlib.pyplot as plt\n",
    "%matplotlib inline\n",
    "\n",
    "x = [1,2,3]\n",
    "y = [4,5,5]\n",
    "\n",
    "fig = plt.scatter(x,y, s=100)\n",
    "plt.axis([0.5, 3.5, 3.5, 5.5]) #plt.axis([left, right, bottom, top]) \n",
    "plt.show()"
   ]
  },
  {
   "cell_type": "markdown",
   "metadata": {},
   "source": [
    "As you can see, these points are not all on a line.  We want to find a __line of best fit__, one which minimizes some error function.  Here are some example lines."
   ]
  },
  {
   "cell_type": "code",
   "execution_count": 3,
   "metadata": {
    "collapsed": false
   },
   "outputs": [
    {
     "data": {
      "image/png": "[encoded data removed]",
      "text/plain": [
       "<matplotlib.figure.Figure at 0x25bb5e5b358>"
      ]
     },
     "metadata": {},
     "output_type": "display_data"
    }
   ],
   "source": [
    "# lines with coordinates (b,m)\n",
    "line_1 = (3.75,.5)\n",
    "line_2 = (4.05,.35)\n",
    "\n",
    "# set up the plot\n",
    "fig = plt.scatter(x,y, s=100)\n",
    "plt.axis([0.5, 3.5, 3.5, 5.5])\n",
    "\n",
    "# add the two lines\n",
    "for line,color in ((line_1,'r'),(line_2,'g')):\n",
    "    plt.plot([0, 3.5], [line[0], line[0] + 3.5* line[1]], color=color, linestyle='-', linewidth=2)\n",
    "\n",
    "# point out an error term    \n",
    "plt.plot([1,1],[4,4.25],color='k',linestyle='--',linewidth=1)\n",
    "plt.annotate('one error term', xy=(1.05, 4.12), xytext=(1.5, 4.1), arrowprops=dict(facecolor='red')) \n",
    "plt.show()"
   ]
  },
  {
   "cell_type": "markdown",
   "metadata": {},
   "source": [
    "The error term we choose is the __squared error__: if my points are $(x_1,y_1),(x_2,y_2),\\ldots,(x_n,y_n)$, and the line we're considering is $y=mx+b$, then the error is:\n",
    "\n",
    "$$E = \\sum_{i=1}^n\\big(y_i - (m\\cdot x_i + b)\\big)^2$$\n",
    "\n",
    "(_Side note:_ We typically talk about the _root mean squared error_, which would entail taking the square root of the above and then dividing by $n$.  It's not hard to see that the if we pick a line which minimizes the squared error, then it also minimizes the root mean squared error, so we don't really need to worry about it.)\n",
    "\n",
    "Now, if all my points actualy lay on the line of best fit, then the following equations would be true:\n",
    "\n",
    "\\begin{align}\n",
    "1 \\cdot m + b &= 4\\\\\n",
    "2 \\cdot m + b &= 5 \\\\\n",
    "3 \\cdot m + b &= 5\\\\\n",
    "\\end{align}\n",
    "\n",
    "Of course, this is not true: the equations above are __LIES__.  To fix this, we need to add the error terms $e_1,e_2,e_3$.  (Note: we have equations for these error terms, but they won't be needed for long.)\n",
    "\n",
    "\\begin{align}\n",
    "1 \\cdot m + b &= 4 \\color{red}{ + e_1 }\\\\\n",
    "2 \\cdot m + b &= 5 \\color{red}{ + e_2 }\\\\\n",
    "3 \\cdot m + b &= 5 \\color{red}{ + e_3 }\\\\\n",
    "\\end{align}\n",
    "\n",
    "Okay, so now I need to find an $m$ and a $b$ (and a corresponding $e_1,e_2,$ and $e_3$) that makes the error terms as small as possible.  To do this, we need to borrow an important __FACT__ from linear algebra.  It's not a hard thing to show, but it would take way more time than we have in this course.  First, we need to rephrase our _system of equations_ into a _matrix equation_: \n",
    "\n",
    "$$\\left[\\begin{array}{cc} 1 & 1 \\\\ 2 & 1 \\\\ 3 & 1 \\end{array}\\right]\\cdot \n",
    "\\left[\\begin{array}{c} m \\\\ b \\end{array}\\right] = \n",
    "\\left[\\begin{array}{c} 4\\\\ 5 \\\\ 5 \\end{array}\\right] + \n",
    "\\left[\\begin{array}{c} e_1 \\\\ e_2 \\\\ e_3 \\end{array}\\right]$$\n",
    "\n",
    "Let's define these matrices: \n",
    "$$A = \\left[\\begin{array}{cc} 1 & 1 \\\\ 2 & 1 \\\\ 3 & 1 \\end{array}\\right]\\hspace{.75in} \n",
    "\\sigma = \\left[\\begin{array}{c} m \\\\ b \\end{array}\\right] \\hspace{.75in}\n",
    "b = \\left[\\begin{array}{c} 4\\\\ 5 \\\\ 5 \\end{array}\\right] \\hspace{.75in}\n",
    "e = \\left[\\begin{array}{c} e_1 \\\\ e_2 \\\\ e_3 \\end{array}\\right]\n",
    "$$\n",
    "\n",
    "So here's the awesome fact: \n",
    "Saying \"Find me $m$ and $b$ with the smallest $(e_1,e_2,e_3)$\" is the same as saying \"Find me an $m$ and $b$ so that $$A^T e = \\left[\\begin{array}{c} 0 \\\\ 0 \\end{array}\\right].\"$$\n",
    "($A^T$ is the _transpose_ of $A$, you get it by switching the rows with the columns.)\n",
    "\n",
    "This may not seem like much, but it helps a ton, because that means that we can multiply both sides of this matrix equation by $A^T$ and get rid of all the error terms:\n",
    "\n",
    "$$A^T A \\sigma = A^T b$$\n",
    "\n",
    "In our example, this becomes:"
   ]
  },
  {
   "cell_type": "code",
   "execution_count": 4,
   "metadata": {
    "collapsed": false
   },
   "outputs": [
    {
     "name": "stdout",
     "output_type": "stream",
     "text": [
      "Left side: \n",
      "[[14  6]\n",
      " [ 6  3]]\n",
      "\n",
      "Right side: \n",
      "[29 14]\n"
     ]
    }
   ],
   "source": [
    "A = np.array([[1,1],[2,1],[3,1]])\n",
    "b = np.array([4,5,5])\n",
    "\n",
    "print(\"Left side: \",A.T.dot(A),'',\"Right side: \", A.T.dot(b),sep='\\n')"
   ]
  },
  {
   "cell_type": "markdown",
   "metadata": {},
   "source": [
    "Thanks numpy!  Prettier: \n",
    "$$\\left[\\begin{array}{cc} 13 & 6 \\\\ 6 & 3 \\end{array}\\right]\\cdot \n",
    "\\left[\\begin{array}{c} m \\\\ b \\end{array}\\right] = \n",
    "\\left[\\begin{array}{c} 29 \\\\ 14 \\end{array}\\right]$$\n",
    "Or, as a system of equations: \n",
    "\\begin{align}\n",
    "6\\cdot b + 14\\cdot m &= 29 \\\\\n",
    "3\\cdot b + 6\\cdot m &= 14\n",
    "\\end{align}\n",
    "Notice that the error term disappears.  We can solve this system of equations!  Subtracting twice the second from the first:\n",
    "$$ 0\\cdot b + (14-12)\\cdot m = 1$$\n",
    "So $m = \\frac{1}{2}$, hence $b = \\frac{11}{3}$.  Let's plot our best fit line."
   ]
  },
  {
   "cell_type": "code",
   "execution_count": 5,
   "metadata": {
    "collapsed": false
   },
   "outputs": [
    {
     "data": {
      "image/png": "[encoded data removed]",
      "text/plain": [
       "<matplotlib.figure.Figure at 0x25bb6067358>"
      ]
     },
     "metadata": {},
     "output_type": "display_data"
    }
   ],
   "source": [
    "# best fit line with coordinates (b,m)\n",
    "line = (11/3,.5)\n",
    "points_on_line = np.array([[x_value,line[0] + x_value * line[1]] for x_value in [1,2,3]])\n",
    "\n",
    "# set up the plot\n",
    "fig = plt.scatter(x,y, s=100)\n",
    "plt.axis([0.5, 3.5, 3.5, 5.5])\n",
    "\n",
    "# add the line\n",
    "plt.plot([0, 3.5], [line[0], line[0] + 3.5* line[1]], color='g', linestyle='-', linewidth=2)\n",
    "\n",
    "# point out the error terms\n",
    "for x,y in points_on_line:\n",
    "    plt.plot([x,x],[{1:4,2:5,3:5}[x],y],color='k',linestyle='--',linewidth=1)"
   ]
  },
  {
   "cell_type": "markdown",
   "metadata": {},
   "source": [
    "In general, the answer becomes:\n",
    "$$\\sigma = (A^T A)^{-1} A^T b$$\n",
    "But there are algorithms that help speed this process up."
   ]
  },
  {
   "cell_type": "markdown",
   "metadata": {},
   "source": [
    "_Side Note:_ The important equations we came up with are called the __normal equations__: \n",
    "\n",
    "\\begin{align}\n",
    "3\\cdot b + 6\\cdot m &= 14 \\\\  \n",
    "6\\cdot b + 14\\cdot m &= 29\n",
    "\\end{align}\n",
    "\n",
    "If you happen to know some multivariable calculus, you can derive these by taking the partial derivatives $\\frac{\\partial\\ E}{\\partial m}$ and $\\frac{\\partial\\ E}{\\partial b}$ and setting them both equal to zero.  This avoids the linear algebra fact."
   ]
  }
 ],
 "metadata": {
  "kernelspec": {
   "display_name": "Python 3",
   "language": "python",
   "name": "python3"
  },
  "language_info": {
   "codemirror_mode": {
    "name": "ipython",
    "version": 3
   },
   "file_extension": ".py",
   "mimetype": "text/x-python",
   "name": "python",
   "nbconvert_exporter": "python",
   "pygments_lexer": "ipython3",
   "version": "3.5.1"
  }
 },
 "nbformat": 4,
 "nbformat_minor": 0
}
